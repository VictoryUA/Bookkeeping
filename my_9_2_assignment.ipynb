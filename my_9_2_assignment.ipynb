{
  "cells": [
    {
      "cell_type": "markdown",
      "metadata": {
        "id": "oY7M_WqQy7zz"
      },
      "source": [
        "# Assignment 9.2\n",
        "\n",
        "> Replace all TODOs with your code. Do not change any other code."
      ]
    },
    {
      "cell_type": "code",
      "execution_count": null,
      "metadata": {
        "id": "mnm_mM7I9Xx0"
      },
      "outputs": [],
      "source": [
        "# Do not edit this cell\n",
        "\n",
        "from typing import List"
      ]
    },
    {
      "cell_type": "markdown",
      "metadata": {
        "id": "Jz8SYjAz0N8D"
      },
      "source": [
        "## Descriptive statistics\n",
        "\n",
        "In this assignment, we will write the functions to calculate the basic statistics from scratch, not using numpy."
      ]
    },
    {
      "cell_type": "markdown",
      "metadata": {
        "id": "IHwd1Zzby7z1"
      },
      "source": [
        "### Task 1\n",
        "\n",
        "Let's start simple: write a function `mean` that calculates the average of the list.\n",
        "\n",
        "$$\\mu = \\frac{{\\sum_{i=1}^n x_i}}{{n}}$$"
      ]
    },
    {
      "cell_type": "code",
      "execution_count": 1,
      "metadata": {
        "id": "UfB0dnXHy7z2",
        "tags": [
          "task_1"
        ]
      },
      "outputs": [],
      "source": [
        "from typing import List\n",
        "\n",
        "def mean(li: List[float]) -> float:\n",
        "    if not li:\n",
        "        raise ValueError(\"List cannot be empty\")\n",
        "    return sum(li) / len(li)\n",
        "\n",
        "assert mean([1., 2., 3.]) == 2.\n",
        "assert mean([1., 1., 2., 0.]) == 1.\n"
      ]
    },
    {
      "cell_type": "markdown",
      "metadata": {
        "id": "lL-ELM-Ay7z2"
      },
      "source": [
        "### Task 2\n",
        "\n",
        "Now let's calculate variance (dispersion). You may use the `mean` function implemented before.\n",
        "\n",
        "$$V = \\frac{{\\sum_{i=1}^n (x_i - \\mu)^2}}{{n}}$$"
      ]
    },
    {
      "cell_type": "code",
      "execution_count": 2,
      "metadata": {
        "id": "cibiSsjry7z3",
        "tags": [
          "task_2"
        ]
      },
      "outputs": [],
      "source": [
        "from typing import List\n",
        "\n",
        "def mean(li: List[float]) -> float:\n",
        "    if not li:\n",
        "        raise ValueError(\"List cannot be empty\")\n",
        "    return sum(li) / len(li)\n",
        "\n",
        "def variance(li: List[float]) -> float:\n",
        "    if not li:\n",
        "        raise ValueError(\"List cannot be empty\")\n",
        "    mu = mean(li)\n",
        "    return sum((x - mu) ** 2 for x in li) / len(li)\n",
        "\n",
        "assert variance([1., 1., 1.]) == 0.\n",
        "assert variance([1., 2., 3., 4.]) == 1.25\n"
      ]
    },
    {
      "cell_type": "markdown",
      "metadata": {
        "id": "YSAUJe1u9XyM"
      },
      "source": [
        "### Task 3\n",
        "\n",
        "The standard deviation is easy once you get the variance:\n",
        "\n",
        "$$\\sigma = \\sqrt{V}$$"
      ]
    },
    {
      "cell_type": "code",
      "execution_count": 3,
      "metadata": {
        "tags": [
          "task_3"
        ],
        "id": "8cr3iHPR9XyO"
      },
      "outputs": [],
      "source": [
        "from typing import List\n",
        "import math\n",
        "\n",
        "def mean(li: List[float]) -> float:\n",
        "    if not li:\n",
        "        raise ValueError(\"List cannot be empty\")\n",
        "    return sum(li) / len(li)\n",
        "\n",
        "def variance(li: List[float]) -> float:\n",
        "    if not li:\n",
        "        raise ValueError(\"List cannot be empty\")\n",
        "    mu = mean(li)\n",
        "    return sum((x - mu) ** 2 for x in li) / len(li)\n",
        "\n",
        "def std(li: List[float]) -> float:\n",
        "    return math.sqrt(variance(li))\n",
        "\n",
        "assert std([1., 1., 1.]) == 0.\n",
        "assert std([1., 2., 3., 4.]) == math.sqrt(1.25)\n"
      ]
    },
    {
      "cell_type": "markdown",
      "metadata": {
        "id": "2I481Gkj9XyR"
      },
      "source": [
        "### Task 4\n",
        "\n",
        "**Median**\n",
        "\n",
        "The median is the middle value in a sorted dataset. If the dataset has an odd number of values, the median is the value at the center. If the dataset has an even number of values, the median is the average of the two middle values."
      ]
    },
    {
      "cell_type": "code",
      "execution_count": 4,
      "metadata": {
        "tags": [
          "task_4"
        ],
        "id": "0BEoTR119XyT"
      },
      "outputs": [],
      "source": [
        "from typing import List\n",
        "\n",
        "def median(li: List[float]) -> float:\n",
        "    sorted_li = sorted(li)\n",
        "    n = len(sorted_li)\n",
        "    if n % 2 == 0:\n",
        "        mid = n // 2\n",
        "        return (sorted_li[mid - 1] + sorted_li[mid]) / 2\n",
        "    else:\n",
        "        return sorted_li[n // 2]\n",
        "\n",
        "assert median([1., 1., 1.]) == 1.\n",
        "assert median([1., 4., 3., 2.]) == 2.5\n"
      ]
    },
    {
      "cell_type": "markdown",
      "metadata": {
        "id": "5DzFkKwx0VI5"
      },
      "source": [
        "## Measure performance\n",
        "\n",
        "Sometimes, apart from theoretical, algorithmic complexity, it's a good idea to compare the runtime of two algorithms empirically, i.e., run the code many times and time it.\n",
        "\n",
        "In Python's standard library, we have [timeit](https://docs.python.org/3/library/timeit.html) module that does exactly that.\n",
        "\n",
        "Let's compare the runtime of your implementations and numpy. Use the provided setup code:"
      ]
    },
    {
      "cell_type": "code",
      "execution_count": 5,
      "metadata": {
        "id": "wlNX3Jyz9XyV"
      },
      "outputs": [],
      "source": [
        "import timeit\n",
        "import numpy as np\n",
        "import random\n",
        "\n",
        "def mean(li):\n",
        "    return sum(li) / len(li)\n",
        "\n",
        "def variance(li):\n",
        "    mu = mean(li)\n",
        "    return sum((x - mu) ** 2 for x in li) / len(li)\n",
        "\n",
        "def std(li):\n",
        "    return variance(li) ** 0.5\n",
        "\n",
        "def median(li):\n",
        "    sorted_li = sorted(li)\n",
        "    n = len(sorted_li)\n",
        "    if n % 2 == 0:\n",
        "        mid = n // 2\n",
        "        return (sorted_li[mid - 1] + sorted_li[mid]) / 2\n",
        "    else:\n",
        "        return sorted_li[n // 2]\n",
        "\n",
        "setup = '''\n",
        "import random\n",
        "import numpy as np\n",
        "arr = np.random.rand(10_000) * 100\n",
        "li = [random.random() * 100 for _ in range(10_000)]\n",
        "'''\n",
        "\n",
        "funcs = {\n",
        "    'mean': mean,\n",
        "    'variance': variance,\n",
        "    'std': std,\n",
        "    'median': median,\n",
        "    'np_mean': np.mean,\n",
        "    'np_var': np.var,\n",
        "    'np_std': np.std,\n",
        "    'np_median': np.median\n",
        "}"
      ]
    },
    {
      "cell_type": "markdown",
      "metadata": {
        "id": "nP0LlORsy7z4"
      },
      "source": [
        "### Task 5\n",
        "\n",
        "Complete Python statements to compare your functions to numpy. Use `li` for your function and `arr` for numpy functions."
      ]
    },
    {
      "cell_type": "code",
      "execution_count": null,
      "metadata": {
        "id": "RiIm_kUSy7z4",
        "tags": [
          "task_5"
        ]
      },
      "outputs": [],
      "source": [
        "stmt_mean_custom = 'mean(li)'\n",
        "stmt_mean_np = 'np.mean(arr)'\n",
        "\n",
        "stmt_var_custom = 'variance(li)'\n",
        "stmt_var_np = 'np.var(arr)'\n",
        "stmt_std_custom = 'std(li)'\n",
        "stmt_std_np = 'np.std(arr)'\n",
        "stmt_median_custom = 'median(li)'\n",
        "stmt_median_np = 'np.median(arr)'\n"
      ]
    },
    {
      "cell_type": "markdown",
      "metadata": {
        "id": "hU1yDEnzy7z4"
      },
      "source": [
        "### Task 6\n",
        "\n",
        "Measure average exec time of your statements with `timeit` module. As your submission, fill out the table with results (rounded to 2 decimal places)"
      ]
    },
    {
      "cell_type": "code",
      "execution_count": 6,
      "metadata": {
        "id": "8sOSsdKiy7z4",
        "tags": [
          "task_6"
        ],
        "colab": {
          "base_uri": "https://localhost:8080/"
        },
        "outputId": "4e4d5af5-de8e-4a4d-b889-ddcc3854a19e"
      },
      "outputs": [
        {
          "output_type": "stream",
          "name": "stdout",
          "text": [
            "Average execution time for 10,000 operations, seconds:\n",
            "Function\tCustom\t\tNumpy\n",
            "mean\t\t0.000050\t0.000018\n",
            "variance\t0.001846\t0.000061\n",
            "std\t\t0.001705\t0.000064\n",
            "median\t\t0.001745\t0.000155\n"
          ]
        }
      ],
      "source": [
        "import timeit\n",
        "\n",
        "# Setup code including definitions of custom functions\n",
        "setup = '''\n",
        "import random\n",
        "import numpy as np\n",
        "arr = np.random.rand(10_000) * 100\n",
        "li = [random.random() * 100 for _ in range(10_000)]\n",
        "\n",
        "def mean(li):\n",
        "    return sum(li) / len(li)\n",
        "\n",
        "def variance(li):\n",
        "    mu = mean(li)\n",
        "    return sum((x - mu) ** 2 for x in li) / len(li)\n",
        "\n",
        "def std(li):\n",
        "    return variance(li) ** 0.5\n",
        "\n",
        "def median(li):\n",
        "    sorted_li = sorted(li)\n",
        "    n = len(sorted_li)\n",
        "    if n % 2 == 0:\n",
        "        mid = n // 2\n",
        "        return (sorted_li[mid - 1] + sorted_li[mid]) / 2\n",
        "    else:\n",
        "        return sorted_li[n // 2]\n",
        "'''\n",
        "\n",
        "# Function to measure execution time and calculate average time\n",
        "def measure_time(stmt, setup, number=10_000):\n",
        "    total_time = timeit.timeit(stmt=stmt, setup=setup, number=number)\n",
        "    avg_time = total_time / number\n",
        "    return avg_time\n",
        "\n",
        "# Statements for custom and numpy functions\n",
        "stmt_mean_custom = 'mean(li)'\n",
        "stmt_mean_np = 'np.mean(arr)'\n",
        "stmt_var_custom = 'variance(li)'\n",
        "stmt_var_np = 'np.var(arr)'\n",
        "stmt_std_custom = 'std(li)'\n",
        "stmt_std_np = 'np.std(arr)'\n",
        "stmt_median_custom = 'median(li)'\n",
        "stmt_median_np = 'np.median(arr)'\n",
        "\n",
        "# Measure execution time for each function\n",
        "mean_custom_time = measure_time(stmt=stmt_mean_custom, setup=setup)\n",
        "var_custom_time = measure_time(stmt=stmt_var_custom, setup=setup)\n",
        "std_custom_time = measure_time(stmt=stmt_std_custom, setup=setup)\n",
        "median_custom_time = measure_time(stmt=stmt_median_custom, setup=setup)\n",
        "\n",
        "mean_np_time = measure_time(stmt=stmt_mean_np, setup=setup)\n",
        "var_np_time = measure_time(stmt=stmt_var_np, setup=setup)\n",
        "std_np_time = measure_time(stmt=stmt_std_np, setup=setup)\n",
        "median_np_time = measure_time(stmt=stmt_median_np, setup=setup)\n",
        "\n",
        "# Print results\n",
        "print(\"Average execution time for 10,000 operations, seconds:\")\n",
        "print(\"Function\\tCustom\\t\\tNumpy\")\n",
        "print(f\"mean\\t\\t{mean_custom_time:.6f}\\t{mean_np_time:.6f}\")\n",
        "print(f\"variance\\t{var_custom_time:.6f}\\t{var_np_time:.6f}\")\n",
        "print(f\"std\\t\\t{std_custom_time:.6f}\\t{std_np_time:.6f}\")\n",
        "print(f\"median\\t\\t{median_custom_time:.6f}\\t{median_np_time:.6f}\")\n"
      ]
    },
    {
      "cell_type": "markdown",
      "metadata": {
        "id": "NbbRIcyqy7z4"
      },
      "source": [
        "Time per 10000 executions, secs\n",
        "\n",
        "| Func       | Custom | Numpy |\n",
        "| ---------- | ------ | ----- |\n",
        "| mean       |        |       |\n",
        "| var        |        |       |\n",
        "| std        |        |       |\n",
        "| median     |        |       |"
      ]
    }
  ],
  "metadata": {
    "colab": {
      "provenance": [],
      "toc_visible": true
    },
    "kernelspec": {
      "display_name": "venv",
      "language": "python",
      "name": "python3"
    },
    "language_info": {
      "codemirror_mode": {
        "name": "ipython",
        "version": 3
      },
      "file_extension": ".py",
      "mimetype": "text/x-python",
      "name": "python",
      "nbconvert_exporter": "python",
      "pygments_lexer": "ipython3",
      "version": "3.9.6"
    },
    "orig_nbformat": 4
  },
  "nbformat": 4,
  "nbformat_minor": 0
}