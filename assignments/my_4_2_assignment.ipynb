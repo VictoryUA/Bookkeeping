{
  "cells": [
    {
      "cell_type": "markdown",
      "metadata": {
        "id": "-89_Z_je0cfL"
      },
      "source": [
        "# Assignment 4.2\n",
        "\n",
        "> Replace all TODOs with your code.\n",
        ">\n",
        "> Do not change any other code and do not add/remove cells!"
      ]
    },
    {
      "cell_type": "code",
      "execution_count": null,
      "metadata": {
        "id": "4Zt3Ez5bCm1Q"
      },
      "outputs": [],
      "source": [
        "# Do not edit this cell\n",
        "\n",
        "from typing import List, Tuple"
      ]
    },
    {
      "cell_type": "markdown",
      "metadata": {
        "id": "w6E-GxTB0j4M"
      },
      "source": [
        "## Complexity"
      ]
    },
    {
      "cell_type": "markdown",
      "metadata": {
        "id": "iEwuf_DP0cfM"
      },
      "source": [
        "### Task 1\n",
        "\n",
        "For example, let's take a simple problem - find a maximum element in an input list. We know that the list is sorted in ascending order.\n",
        "\n",
        "Write a function `find_max(li: List[int]) -> int` that would return a maximum element of a sorted list `li`. You can assume `li` to be non-empty. As a last command of your cell, print the complexity of your algorithm. It should be one of:\n",
        "\n",
        "`{O(1), O(log n), O(n), O(nlog n), O(n^2), O(2^n)}`.\n",
        "\n",
        "Note: do not use `max` built-in function."
      ]
    },
    {
      "cell_type": "code",
      "execution_count": null,
      "metadata": {
        "colab": {
          "base_uri": "https://localhost:8080/"
        },
        "id": "IWVOCWxx0cfM",
        "outputId": "514abaf3-a417-409d-8db7-71169d9d8c7a"
      },
      "outputs": [
        {
          "name": "stdout",
          "output_type": "stream",
          "text": [
            "O(1)\n"
          ]
        }
      ],
      "source": [
        "from typing import List\n",
        "def find_max(li: List[int]) -> int:\n",
        "    return li[-1]\n",
        "\n",
        "print('O(1)') # because it returns the last element of the list, regardless of its size"
      ]
    },
    {
      "cell_type": "markdown",
      "metadata": {
        "id": "2z8HqsaK0cfN"
      },
      "source": [
        "### Task 2\n",
        "\n",
        "The same problem, now we don't know anything about the order in `li`. What's the complexity then? Print it as the last command of the cell.\n",
        "\n",
        "Note: do not use `max` built-in function.\n"
      ]
    },
    {
      "cell_type": "code",
      "execution_count": 7,
      "metadata": {
        "colab": {
          "base_uri": "https://localhost:8080/"
        },
        "id": "kva_9ycA0cfN",
        "outputId": "7988fd88-996b-47f6-996b-56f2bab2d8c4"
      },
      "outputs": [
        {
          "output_type": "stream",
          "name": "stdout",
          "text": [
            "9\n"
          ]
        }
      ],
      "source": [
        "from typing import List\n",
        "\n",
        "def find_max(li: List[int]) -> int:\n",
        "    max_num=li[0]\n",
        "    for num in li:\n",
        "      if num>max_num:\n",
        "        max_num=num\n",
        "    return max_num\n",
        "\n",
        "numbers=[5,3,9,2,7]\n",
        "print(find_max(numbers)) # the complexity of this algorithm is O(n)"
      ]
    },
    {
      "cell_type": "markdown",
      "metadata": {
        "id": "IqjW7SGS0cfN"
      },
      "source": [
        "### Task 3\n",
        "\n",
        "Now we are playing the guessing game! The user guesses the number between 1 and `n`, and your program makes guesses. If the guess is higher than the initial number, the user enters '<', if the number is lower - '>'. If the guess is correct, a user enters 'bingo'.\n",
        "\n",
        "Implement the program to play the game. As a last command of your cell, print the complexity of your algorithm (or the worst-case number of guesses your program needs to make before the correct guess). It should be one of:\n",
        "\n",
        "`{O(1), O(log n), O(n), O(nlog n), O(n^2), O(2^n)}`."
      ]
    },
    {
      "cell_type": "code",
      "execution_count": 11,
      "metadata": {
        "colab": {
          "base_uri": "https://localhost:8080/"
        },
        "id": "p83RQvA40cfN",
        "outputId": "0a0313ac-af3e-42e8-ad7b-cac28bf31242"
      },
      "outputs": [
        {
          "output_type": "stream",
          "name": "stdout",
          "text": [
            "50\n",
            "<\n",
            "25\n",
            ">\n",
            "37\n",
            "bingo\n",
            "Complexity: O(log n)\n"
          ]
        }
      ],
      "source": [
        "n = 100\n",
        "a = 1\n",
        "b = n\n",
        "\n",
        "while True:\n",
        "    guess = (a + b) // 2\n",
        "    print(guess)\n",
        "    feedback = input().strip().lower()\n",
        "\n",
        "    if feedback == 'bingo':\n",
        "        break\n",
        "    elif feedback == '<':\n",
        "        b = guess - 1\n",
        "    elif feedback == '>':\n",
        "        a = guess + 1\n",
        "\n",
        "print(\"Complexity: O(log n)\")"
      ]
    }
  ],
  "metadata": {
    "colab": {
      "provenance": []
    },
    "kernelspec": {
      "display_name": "venv",
      "language": "python",
      "name": "python3"
    },
    "language_info": {
      "codemirror_mode": {
        "name": "ipython",
        "version": 3
      },
      "file_extension": ".py",
      "mimetype": "text/x-python",
      "name": "python",
      "nbconvert_exporter": "python",
      "pygments_lexer": "ipython3",
      "version": "3.11.5"
    }
  },
  "nbformat": 4,
  "nbformat_minor": 0
}