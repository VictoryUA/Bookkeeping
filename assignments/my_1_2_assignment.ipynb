{
  "cells": [
    {
      "cell_type": "markdown",
      "metadata": {
        "id": "-89_Z_je0cfL"
      },
      "source": [
        "# Assignment 1.2\n",
        "\n",
        "> Replace all TODOs with your code. Do not change any other code."
      ]
    },
    {
      "cell_type": "markdown",
      "metadata": {
        "id": "w6E-GxTB0j4M"
      },
      "source": [
        "## Boolean, None"
      ]
    },
    {
      "cell_type": "markdown",
      "metadata": {
        "id": "iEwuf_DP0cfM"
      },
      "source": [
        "### Task 1\n",
        "\n",
        "Replace all `TODO`s with one of the logical operators to make all the expressions `True`."
      ]
    },
    {
      "cell_type": "code",
      "execution_count": 18,
      "metadata": {
        "id": "IWVOCWxx0cfM",
        "tags": [
          "task_1"
        ],
        "outputId": "ade5f2c5-5ab9-4252-8068-3ba9ccef5885",
        "colab": {
          "base_uri": "https://localhost:8080/"
        }
      },
      "outputs": [
        {
          "output_type": "stream",
          "name": "stdout",
          "text": [
            "1 True\n",
            "2 True\n",
            "3 True\n",
            "4 True\n",
            "5 True\n"
          ]
        }
      ],
      "source": [
        "print('1', 4 < 5)\n",
        "print('2', 10 > 5)\n",
        "print('3', 42 == 42)\n",
        "print('4', 42 != \"42\")\n",
        "print('5', 'None'!= None)"
      ]
    },
    {
      "cell_type": "markdown",
      "metadata": {
        "id": "mZydlWw_0wzt"
      },
      "source": [
        "## String"
      ]
    },
    {
      "cell_type": "markdown",
      "metadata": {
        "id": "2z8HqsaK0cfN"
      },
      "source": [
        "### Task 2\n",
        "\n",
        "You have a string in the variable `a`. Remove all letters \"e\" from it."
      ]
    },
    {
      "cell_type": "code",
      "execution_count": 22,
      "metadata": {
        "id": "kva_9ycA0cfN",
        "tags": [
          "task_2"
        ],
        "outputId": "f2ce8d63-a6a1-4832-e8ba-6d80bc43f346",
        "colab": {
          "base_uri": "https://localhost:8080/"
        }
      },
      "outputs": [
        {
          "output_type": "stream",
          "name": "stdout",
          "text": [
            "res = Sombody said somthing to Samantha.\n"
          ]
        }
      ],
      "source": [
        "a = \"Somebody said something to Samantha.\"\n",
        "\n",
        "splitted=a.split('e')\n",
        "\n",
        "joined_str=''.join(splitted)\n",
        "res=joined_str\n",
        "\n",
        "print('res =', res)  # Should be \"Sombody said somthing to Samantha\""
      ]
    },
    {
      "cell_type": "markdown",
      "metadata": {
        "id": "IqjW7SGS0cfN"
      },
      "source": [
        "### Task 3\n",
        "\n",
        "Make all letters of the string `a` lowercase."
      ]
    },
    {
      "cell_type": "code",
      "execution_count": 23,
      "metadata": {
        "id": "p83RQvA40cfN",
        "tags": [
          "task_3"
        ],
        "outputId": "45d2b7bd-6945-4656-89f2-037b800d964a",
        "colab": {
          "base_uri": "https://localhost:8080/"
        }
      },
      "outputs": [
        {
          "output_type": "stream",
          "name": "stdout",
          "text": [
            "res = animals\n"
          ]
        }
      ],
      "source": [
        "a = 'Animals'\n",
        "\n",
        "res =a.lower()\n",
        "\n",
        "print('res =', res)  # Should be \"animals\""
      ]
    },
    {
      "cell_type": "markdown",
      "metadata": {
        "id": "CKS_sLMj0cfN"
      },
      "source": [
        "### Task 4\n",
        "Remove all spaces from **the beginning and end** of the string `a`."
      ]
    },
    {
      "cell_type": "code",
      "execution_count": 24,
      "metadata": {
        "id": "tXZbJ3Jn0cfN",
        "tags": [
          "task_4"
        ],
        "outputId": "ebf5f821-2772-4b69-fefe-cf58a0b7f400",
        "colab": {
          "base_uri": "https://localhost:8080/"
        }
      },
      "outputs": [
        {
          "output_type": "stream",
          "name": "stdout",
          "text": [
            "res = Fancy string\n"
          ]
        }
      ],
      "source": [
        "a = '   Fancy string   '\n",
        "\n",
        "res = a.strip()\n",
        "\n",
        "print('res =', res)  # Should be \"Fancy string\""
      ]
    },
    {
      "cell_type": "markdown",
      "metadata": {
        "id": "a1oauilt0cfN"
      },
      "source": [
        "### Task 5\n",
        "Remove all spaces from **the end** of the string `a`."
      ]
    },
    {
      "cell_type": "code",
      "execution_count": 26,
      "metadata": {
        "id": "CLgRuR0H0cfO",
        "tags": [
          "task_5"
        ],
        "outputId": "cab5e087-81c0-49fa-b6bf-76a1617f8ae6",
        "colab": {
          "base_uri": "https://localhost:8080/"
        }
      },
      "outputs": [
        {
          "output_type": "stream",
          "name": "stdout",
          "text": [
            "res =    Fancy string\n"
          ]
        }
      ],
      "source": [
        "a = '   Fancy string   '\n",
        "\n",
        "res = a.rstrip()\n",
        "\n",
        "print('res =', res)  # Should be \"   Fancy string\""
      ]
    }
  ],
  "metadata": {
    "colab": {
      "provenance": [],
      "toc_visible": true
    },
    "kernelspec": {
      "display_name": "venv",
      "language": "python",
      "name": "python3"
    },
    "language_info": {
      "codemirror_mode": {
        "name": "ipython",
        "version": 3
      },
      "file_extension": ".py",
      "mimetype": "text/x-python",
      "name": "python",
      "nbconvert_exporter": "python",
      "pygments_lexer": "ipython3",
      "version": "3.9.6"
    },
    "orig_nbformat": 4
  },
  "nbformat": 4,
  "nbformat_minor": 0
}