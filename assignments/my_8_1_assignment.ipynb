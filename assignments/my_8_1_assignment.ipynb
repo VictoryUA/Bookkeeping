{
  "cells": [
    {
      "cell_type": "markdown",
      "metadata": {
        "id": "2_R_Ya7UhcB8"
      },
      "source": [
        "# Assignment 8.1\n",
        "\n",
        "> Replace all TODOs with your code.\n",
        ">\n",
        "> Do not change any other code and do not add/remove cells!"
      ]
    },
    {
      "cell_type": "markdown",
      "metadata": {
        "id": "N1SWwMSshfVz"
      },
      "source": [
        "## Classes"
      ]
    },
    {
      "cell_type": "markdown",
      "metadata": {
        "id": "OY8NxJ-CiePg"
      },
      "source": [
        "### Task 1\n",
        "\n",
        "Define a Python class named `Interval` with the following specifications:\n",
        "\n",
        "1. The class should have a constructor (\\_\\_init__) that takes two parameters, start and end, and initializes the interval with these values.\n",
        "2. Ensure that both start and end are numeric (either integers or floats).\n",
        "3. Ensure that the start value is less than or equal to the end value.\n",
        "4. Provide a \\_\\_str__ method to return a string representation of the interval in the format \"[start, end]\"."
      ]
    },
    {
      "cell_type": "code",
      "execution_count": 3,
      "metadata": {
        "id": "VBFmFWDXjQPT",
        "colab": {
          "base_uri": "https://localhost:8080/"
        },
        "outputId": "cbe11264-709d-4e56-f9d1-475c668fae1a"
      },
      "outputs": [
        {
          "output_type": "stream",
          "name": "stdout",
          "text": [
            "[1, 5]\n"
          ]
        }
      ],
      "source": [
        "class Interval:\n",
        "    def __init__(self, start, end):\n",
        "        if not isinstance(start, (int, float)):\n",
        "            raise TypeError(\"Start value must be numeric\")\n",
        "        if not isinstance(end, (int, float)):\n",
        "            raise TypeError(\"End value must be numeric\")\n",
        "        if start > end:\n",
        "            raise ValueError(\"Start value must be less than or equal to end value\")\n",
        "\n",
        "        self.start = start\n",
        "        self.end = end\n",
        "\n",
        "    def __str__(self):\n",
        "      return f\"[{self.start}, {self.end}]\"\n",
        "\n",
        "interval = Interval(1, 5)\n",
        "print(interval) # [1, 5]"
      ]
    },
    {
      "cell_type": "markdown",
      "metadata": {
        "id": "pJ72CYiylhIY"
      },
      "source": [
        "### Task 2\n",
        "\n",
        "Expand the Interval class by adding a method named `is_overlapping` that checks whether the current interval overlaps with another interval. The method should take another Interval object as a parameter and return `True` if there is an overlap and `False` otherwise."
      ]
    },
    {
      "cell_type": "code",
      "execution_count": 4,
      "metadata": {
        "id": "7t64cfMdl3qe",
        "colab": {
          "base_uri": "https://localhost:8080/"
        },
        "outputId": "7a0020c1-2cfd-417d-923c-4ca55ddd7f58"
      },
      "outputs": [
        {
          "output_type": "stream",
          "name": "stdout",
          "text": [
            "Do intervals overlap? True\n"
          ]
        }
      ],
      "source": [
        "class Interval:\n",
        "    def __init__(self, start, end):\n",
        "        if not isinstance(start, (int, float)):\n",
        "            raise TypeError(\"Start value must be numeric\")\n",
        "        if not isinstance(end, (int, float)):\n",
        "            raise TypeError(\"End value must be numeric\")\n",
        "        if start > end:\n",
        "            raise ValueError(\"Start value must be less than or equal to end value\")\n",
        "\n",
        "        self.start = start\n",
        "        self.end = end\n",
        "\n",
        "    def __str__(self):\n",
        "        return f\"[{self.start}, {self.end}]\"\n",
        "\n",
        "    def is_overlapping(self, other_interval):\n",
        "        if not isinstance(other_interval, Interval):\n",
        "            raise TypeError(\"Argument must be an Interval object\")\n",
        "\n",
        "        return not (self.end < other_interval.start or self.start > other_interval.end)\n",
        "\n",
        "interval1 = Interval(1, 5)\n",
        "interval2 = Interval(3, 8)\n",
        "\n",
        "overlap_result = interval1.is_overlapping(interval2)\n",
        "print(\"Do intervals overlap?\", overlap_result) # Do intervals overlap? True"
      ]
    },
    {
      "cell_type": "markdown",
      "metadata": {
        "id": "aelqtEfkni2N"
      },
      "source": [
        "### Task 3\n",
        "\n",
        "Expand the `Interval` class by adding a **static** method named `intersection_static` that calculates the intersection of two overlapping intervals. The static method should take two `Interval` objects as parameters and return a new `Interval` representing the intersection if there is one.\n",
        "\n",
        "The method should return `None` if the intervals do not overlap."
      ]
    },
    {
      "cell_type": "code",
      "execution_count": 14,
      "metadata": {
        "id": "E6DNMmTRoyNa",
        "colab": {
          "base_uri": "https://localhost:8080/"
        },
        "outputId": "e53fea04-c48d-4d5f-ca63-511b4f25d409"
      },
      "outputs": [
        {
          "output_type": "stream",
          "name": "stdout",
          "text": [
            "Intersection result (static method): [3, 5]\n"
          ]
        }
      ],
      "source": [
        "class Interval:\n",
        "    def __init__(self, start, end):\n",
        "        if not isinstance(start, (int, float)):\n",
        "            raise TypeError(\"Start value must be numeric\")\n",
        "        if not isinstance(end, (int, float)):\n",
        "            raise TypeError(\"End value must be numeric\")\n",
        "        if start > end:\n",
        "            raise ValueError(\"Start value must be less than or equal to end value\")\n",
        "\n",
        "        self.start = start\n",
        "        self.end = end\n",
        "\n",
        "    def __str__(self):\n",
        "        return f\"[{self.start}, {self.end}]\"\n",
        "\n",
        "    def is_overlapping(self, other_interval):\n",
        "        if not isinstance(other_interval, Interval):\n",
        "            raise TypeError(\"Argument must be an Interval object\")\n",
        "\n",
        "        return not (self.end < other_interval.start or self.start > other_interval.end)\n",
        "\n",
        "    @staticmethod\n",
        "    def intersection_static(interval1, interval2):\n",
        "        if not isinstance(interval1, Interval) or not isinstance(interval2, Interval):\n",
        "            raise TypeError(\"Arguments must be Interval objects\")\n",
        "\n",
        "        if not interval1.is_overlapping(interval2):\n",
        "            return None\n",
        "\n",
        "        start = max(interval1.start, interval2.start)\n",
        "        end = min(interval1.end, interval2.end)\n",
        "\n",
        "        return Interval(start, end)\n",
        "\n",
        "\n",
        "interval1 = Interval(1, 5)\n",
        "interval2 = Interval(3, 8)\n",
        "intersection_result_static = Interval.intersection_static(interval1, interval2)\n",
        "print(\"Intersection result (static method):\", intersection_result_static)  # Output: Intersection result (static method): [3, 5]"
      ]
    },
    {
      "cell_type": "markdown",
      "metadata": {
        "id": "xGh7oQHFtsSl"
      },
      "source": [
        "### Task 4\n",
        "\n",
        "Expand the `Interval` class by overloading a math operator \"&\" to calculate the intersection of two overlapping intervals. Define the logic for the intersection using the method from the previous task."
      ]
    },
    {
      "cell_type": "code",
      "execution_count": 13,
      "metadata": {
        "id": "3f3CiUlGu1cq",
        "colab": {
          "base_uri": "https://localhost:8080/"
        },
        "outputId": "3102e5ac-7baf-41d9-d0b8-2c4f0b4cc6b9"
      },
      "outputs": [
        {
          "output_type": "stream",
          "name": "stdout",
          "text": [
            "Intersection result: [3, 5]\n"
          ]
        }
      ],
      "source": [
        "class Interval:\n",
        "    def __init__(self, start, end):\n",
        "        if not isinstance(start, (int, float)):\n",
        "            raise TypeError(\"Start value must be numeric\")\n",
        "        if not isinstance(end, (int, float)):\n",
        "            raise TypeError(\"End value must be numeric\")\n",
        "        if start > end:\n",
        "            raise ValueError(\"Start value must be less than or equal to end value\")\n",
        "\n",
        "        self.start = start\n",
        "        self.end = end\n",
        "\n",
        "    def __str__(self):\n",
        "        return f\"[{self.start}, {self.end}]\"\n",
        "\n",
        "    def is_overlapping(self, other_interval):\n",
        "        if not isinstance(other_interval, Interval):\n",
        "            raise TypeError(\"Argument must be an Interval object\")\n",
        "\n",
        "        return not (self.end < other_interval.start or self.start > other_interval.end)\n",
        "\n",
        "    def intersection_static(interval1, interval2):\n",
        "        if interval1.is_overlapping(interval2):\n",
        "            start = max(interval1.start, interval2.start)\n",
        "            end = min(interval1.end, interval2.end)\n",
        "            return Interval(start, end)\n",
        "        else:\n",
        "            return None\n",
        "\n",
        "    def __and__(self, other_interval):\n",
        "        return Interval.intersection_static(self, other_interval)\n",
        "\n",
        "interval1 = Interval(1, 5)\n",
        "interval2 = Interval(3, 8)\n",
        "intersection_result = interval1 & interval2\n",
        "print(\"Intersection result:\", intersection_result)  # Output: Intersection result: [3, 5]"
      ]
    },
    {
      "cell_type": "markdown",
      "metadata": {
        "id": "51BGij2Tvoka"
      },
      "source": [
        "### Task 5\n",
        "\n",
        "Expand the `Interval` class by adding a static method named `union_static` that calculates the union of two overlapping intervals. The static method should take two Interval objects as parameters and return a new Interval representing the union if there is one.\n",
        "\n",
        "The method should return `None` if the intervals do not overlap."
      ]
    },
    {
      "cell_type": "code",
      "execution_count": 15,
      "metadata": {
        "id": "Xnm1CbK8v2v1",
        "colab": {
          "base_uri": "https://localhost:8080/"
        },
        "outputId": "a28dccbe-4caf-426e-8acb-aee59fbd18f5"
      },
      "outputs": [
        {
          "output_type": "stream",
          "name": "stdout",
          "text": [
            "Union Result (Static method): [1, 8]\n"
          ]
        }
      ],
      "source": [
        "class Interval:\n",
        "    def __init__(self, start, end):\n",
        "        if not isinstance(start, (int, float)):\n",
        "            raise TypeError(\"Start value must be numeric\")\n",
        "        if not isinstance(end, (int, float)):\n",
        "            raise TypeError(\"End value must be numeric\")\n",
        "        if start > end:\n",
        "            raise ValueError(\"Start value must be less than or equal to end value\")\n",
        "\n",
        "        self.start = start\n",
        "        self.end = end\n",
        "\n",
        "    def __str__(self):\n",
        "        return f\"[{self.start}, {self.end}]\"\n",
        "\n",
        "    def is_overlapping(self, other_interval):\n",
        "        if not isinstance(other_interval, Interval):\n",
        "            raise TypeError(\"Argument must be an Interval object\")\n",
        "\n",
        "        return not (self.end < other_interval.start or self.start > other_interval.end)\n",
        "\n",
        "    def intersection_static(interval1, interval2):\n",
        "        if interval1.is_overlapping(interval2):\n",
        "            start = max(interval1.start, interval2.start)\n",
        "            end = min(interval1.end, interval2.end)\n",
        "            return Interval(start, end)\n",
        "        else:\n",
        "            return None\n",
        "\n",
        "    def __and__(self, other_interval):\n",
        "        return Interval.intersection_static(self, other_interval)\n",
        "\n",
        "    @staticmethod\n",
        "    def union_static(interval1, interval2):\n",
        "        if interval1.is_overlapping(interval2):\n",
        "            start = min(interval1.start, interval2.start)\n",
        "            end = max(interval1.end, interval2.end)\n",
        "            return Interval(start, end)\n",
        "        else:\n",
        "            return None\n",
        "\n",
        "interval1 = Interval(1, 5)\n",
        "interval2 = Interval(3, 8)\n",
        "\n",
        "union_result_static = Interval.union_static(interval1, interval2)\n",
        "print(\"Union Result (Static method):\", union_result_static) # Union Result (Static method): [1, 8]"
      ]
    },
    {
      "cell_type": "markdown",
      "metadata": {
        "id": "5yGYlKjCwbzr"
      },
      "source": [
        "### Task 6\n",
        "\n",
        "Expand the `Interval` class by overloading a math operator \"|\" to calculate the union  of two overlapping intervals. Define the logic for the union using the method from the previous task."
      ]
    },
    {
      "cell_type": "code",
      "execution_count": 16,
      "metadata": {
        "id": "xjCgPAy5wu1Z",
        "colab": {
          "base_uri": "https://localhost:8080/"
        },
        "outputId": "33bfa822-9d7e-42ae-be61-688c611d1af1"
      },
      "outputs": [
        {
          "output_type": "stream",
          "name": "stdout",
          "text": [
            "Union Result: [1, 8]\n"
          ]
        }
      ],
      "source": [
        "class Interval:\n",
        "    def __init__(self, start, end):\n",
        "        if not isinstance(start, (int, float)):\n",
        "            raise TypeError(\"Start value must be numeric\")\n",
        "        if not isinstance(end, (int, float)):\n",
        "            raise TypeError(\"End value must be numeric\")\n",
        "        if start > end:\n",
        "            raise ValueError(\"Start value must be less than or equal to end value\")\n",
        "\n",
        "        self.start = start\n",
        "        self.end = end\n",
        "\n",
        "    def __str__(self):\n",
        "        return f\"[{self.start}, {self.end}]\"\n",
        "\n",
        "    def is_overlapping(self, other_interval):\n",
        "        if not isinstance(other_interval, Interval):\n",
        "            raise TypeError(\"Argument must be an Interval object\")\n",
        "\n",
        "        return not (self.end < other_interval.start or self.start > other_interval.end)\n",
        "\n",
        "    def intersection_static(interval1, interval2):\n",
        "        if interval1.is_overlapping(interval2):\n",
        "            start = max(interval1.start, interval2.start)\n",
        "            end = min(interval1.end, interval2.end)\n",
        "            return Interval(start, end)\n",
        "        else:\n",
        "            return None\n",
        "\n",
        "    def __and__(self, other_interval):\n",
        "        return Interval.intersection_static(self, other_interval)\n",
        "\n",
        "    @staticmethod\n",
        "    def union_static(interval1, interval2):\n",
        "        if interval1.is_overlapping(interval2):\n",
        "            start = min(interval1.start, interval2.start)\n",
        "            end = max(interval1.end, interval2.end)\n",
        "            return Interval(start, end)\n",
        "        else:\n",
        "            return None\n",
        "\n",
        "    def __or__(self, other_interval):\n",
        "        return Interval.union_static(self, other_interval)\n",
        "\n",
        "\n",
        "interval1 = Interval(1, 5)\n",
        "interval2 = Interval(3, 8)\n",
        "\n",
        "union_result = interval1 | interval2\n",
        "print(\"Union Result:\", union_result) # Union Result: [1, 8]"
      ]
    },
    {
      "cell_type": "markdown",
      "metadata": {
        "id": "N-hiSBEK0fbz"
      },
      "source": [
        "### Task 7 (optional)\n",
        "\n",
        "Expand the `Interval` class by overloading the \"-\" operator to calculate the difference between two intervals. The method should return a new `Interval` representing the portion of the first interval that is not in the second."
      ]
    },
    {
      "cell_type": "code",
      "execution_count": 17,
      "metadata": {
        "id": "YZ5AqAXr002L",
        "colab": {
          "base_uri": "https://localhost:8080/"
        },
        "outputId": "67b3d0a7-1520-4b8a-f061-99a466090312"
      },
      "outputs": [
        {
          "output_type": "stream",
          "name": "stdout",
          "text": [
            "Difference Result: [1, 3]\n",
            "Difference Result: [5, 8]\n"
          ]
        }
      ],
      "source": [
        "class Interval:\n",
        "    def __init__(self, start, end):\n",
        "        if not isinstance(start, (int, float)):\n",
        "            raise TypeError(\"Start value must be numeric\")\n",
        "        if not isinstance(end, (int, float)):\n",
        "            raise TypeError(\"End value must be numeric\")\n",
        "        if start > end:\n",
        "            raise ValueError(\"Start value must be less than or equal to end value\")\n",
        "\n",
        "        self.start = start\n",
        "        self.end = end\n",
        "\n",
        "    def __str__(self):\n",
        "        return f\"[{self.start}, {self.end}]\"\n",
        "\n",
        "    def is_overlapping(self, other_interval):\n",
        "        if not isinstance(other_interval, Interval):\n",
        "            raise TypeError(\"Argument must be an Interval object\")\n",
        "\n",
        "        return not (self.end < other_interval.start or self.start > other_interval.end)\n",
        "\n",
        "    def intersection_static(interval1, interval2):\n",
        "        if interval1.is_overlapping(interval2):\n",
        "            start = max(interval1.start, interval2.start)\n",
        "            end = min(interval1.end, interval2.end)\n",
        "            return Interval(start, end)\n",
        "        else:\n",
        "            return None\n",
        "\n",
        "    def __and__(self, other_interval):\n",
        "        return Interval.intersection_static(self, other_interval)\n",
        "\n",
        "    @staticmethod\n",
        "    def union_static(interval1, interval2):\n",
        "        if interval1.is_overlapping(interval2):\n",
        "            start = min(interval1.start, interval2.start)\n",
        "            end = max(interval1.end, interval2.end)\n",
        "            return Interval(start, end)\n",
        "        else:\n",
        "            return None\n",
        "\n",
        "    def __or__(self, other_interval):\n",
        "        return Interval.union_static(self, other_interval)\n",
        "\n",
        "    def __sub__(self, other_interval):\n",
        "        if not isinstance(other_interval, Interval):\n",
        "            raise TypeError(\"Argument must be an Interval object\")\n",
        "\n",
        "        if self.start >= other_interval.end or self.end <= other_interval.start:\n",
        "            return self\n",
        "\n",
        "        if self.start < other_interval.start and self.end > other_interval.end:\n",
        "            return [Interval(self.start, other_interval.start), Interval(other_interval.end, self.end)]\n",
        "\n",
        "        if self.start < other_interval.start:\n",
        "            return Interval(self.start, other_interval.start)\n",
        "        else:\n",
        "            return Interval(other_interval.end, self.end)\n",
        "\n",
        "interval1 = Interval(1, 5)\n",
        "interval2 = Interval(3, 8)\n",
        "\n",
        "print(\"Difference Result:\", interval1 - interval2) # Union Result: [1, 2]\n",
        "print(\"Difference Result:\", interval2 - interval1) # Union Result: [6, 8]"
      ]
    }
  ],
  "metadata": {
    "colab": {
      "provenance": [],
      "toc_visible": true
    },
    "kernelspec": {
      "display_name": "Python 3",
      "name": "python3"
    },
    "language_info": {
      "name": "python"
    }
  },
  "nbformat": 4,
  "nbformat_minor": 0
}