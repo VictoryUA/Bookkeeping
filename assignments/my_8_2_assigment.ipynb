{
  "cells": [
    {
      "cell_type": "markdown",
      "metadata": {
        "id": "ozOVKEIKm8aP"
      },
      "source": [
        "# Assignment 8.2\n",
        "\n",
        "> Replace all TODOs with your code.\n",
        ">\n",
        "> Do not change any other code and do not add/remove cells!"
      ]
    },
    {
      "cell_type": "markdown",
      "metadata": {
        "id": "GRPST61knD1_"
      },
      "source": [
        "## Inheritance"
      ]
    },
    {
      "cell_type": "markdown",
      "metadata": {
        "id": "TIeo4PGfnH_f"
      },
      "source": [
        "### Task 1\n",
        "\n",
        "Define a base class named `Account` to a general bank account.\n",
        "\n",
        "The class should include an initialization method (`__init__`), taking into account the number and holder name and methods for depositing money to the account and withdrawing from it. Do not forget to ensure that the account never has a negative balance.\n",
        "\n",
        "String representation (`__str__`) should be an abstract method (throw a corresponding error if it is called on the base `Account` class"
      ]
    },
    {
      "cell_type": "code",
      "execution_count": 1,
      "metadata": {
        "id": "es4kM6panjNB"
      },
      "outputs": [],
      "source": [
        "from abc import ABC, abstractmethod\n",
        "\n",
        "class Account(ABC):\n",
        "    def __init__(self, account_number, holder_name):\n",
        "        self.account_number = account_number\n",
        "        self.holder_name = holder_name\n",
        "        self.balance = 0\n",
        "\n",
        "    def deposit(self, amount):\n",
        "        if amount > 0:\n",
        "            self.balance += amount\n",
        "            print(f\"Deposited ${amount}. New balance is ${self.balance}.\")\n",
        "        else:\n",
        "            print(\"Invalid deposit amount.\")\n",
        "\n",
        "    def withdraw(self, amount):\n",
        "        if amount > 0:\n",
        "            if self.balance >= amount:\n",
        "                self.balance -= amount\n",
        "                print(f\"Withdrew ${amount}. New balance is ${self.balance}.\")\n",
        "            else:\n",
        "                print(\"Insufficient funds.\")\n",
        "        else:\n",
        "            print(\"Invalid withdrawal amount.\")\n",
        "\n",
        "    @abstractmethod\n",
        "    def __str__(self):\n",
        "        pass"
      ]
    },
    {
      "cell_type": "markdown",
      "metadata": {
        "id": "4FjqIBbCnqh3"
      },
      "source": [
        "### Task 2\n",
        "\n",
        "Derive a `CurrentAccount` subclass from the `Account` base class and provide its own implementation for the `__str__` method. The text representation should mention the type of account, account number, and remaining balance."
      ]
    },
    {
      "cell_type": "code",
      "execution_count": 2,
      "metadata": {
        "id": "VNhS9FjCr-_k"
      },
      "outputs": [],
      "source": [
        "class CurrentAccount(Account):\n",
        "    def __str__(self):\n",
        "        return f\"Current Account\\nAccount Number: {self.account_number}\\nBalance: ${self.balance}\"\n"
      ]
    },
    {
      "cell_type": "markdown",
      "metadata": {
        "id": "h-CdQzoOtjy6"
      },
      "source": [
        "### Task 3\n",
        "\n",
        "Derive a `SavingsAccount` subclass from the `Account` base class and provide its implementation for the `__str__` method. When initializing objects of this class, the caller must provide the `interest_rate` parameter.\n",
        "\n",
        " The text representation should mention the type of account, interest rate, account number, and remaining balance.\n",
        "\n",
        "Provide additional method `add_interest` that adds interest based on `interest_rate`:\n",
        "$$new\\_balance = old\\_balance + old\\_balance * interest\\_rate$$"
      ]
    },
    {
      "cell_type": "code",
      "execution_count": 3,
      "metadata": {
        "id": "akQXzV_vtweO"
      },
      "outputs": [],
      "source": [
        "class SavingsAccount(Account):\n",
        "    def __init__(self, account_number, holder_name, interest_rate):\n",
        "        super().__init__(account_number, holder_name)\n",
        "        self.interest_rate = interest_rate\n",
        "\n",
        "    def add_interest(self):\n",
        "        interest = self.balance * self.interest_rate\n",
        "        self.balance += interest\n",
        "        print(f\"Added interest. New balance is ${self.balance}.\")\n",
        "\n",
        "    def __str__(self):\n",
        "        return f\"Savings Account\\nInterest Rate: {self.interest_rate}\\nAccount Number: {self.account_number}\\nBalance: ${self.balance}\""
      ]
    },
    {
      "cell_type": "markdown",
      "metadata": {
        "id": "724_WyJry8i9"
      },
      "source": [
        "### Task 4\n",
        "\n",
        "Create an array with different accounts, add/withdraw money from some of them, iterate over the array, and print the text representation of each."
      ]
    },
    {
      "cell_type": "code",
      "execution_count": 4,
      "metadata": {
        "id": "BDZA3L25zZEo",
        "outputId": "85cb2947-66b6-45cb-9156-b0d91666933e",
        "colab": {
          "base_uri": "https://localhost:8080/"
        }
      },
      "outputs": [
        {
          "output_type": "stream",
          "name": "stdout",
          "text": [
            "Deposited $1000. New balance is $1000.\n",
            "Deposited $2000. New balance is $2000.\n",
            "Deposited $3000. New balance is $3000.\n",
            "Withdrew $500. New balance is $500.\n",
            "Withdrew $1000. New balance is $2000.\n",
            "Account\n",
            "Account Number: 123456789\n",
            "Holder Name: John Doe\n",
            "Balance: $500\n",
            "Account\n",
            "Account Number: 987654321\n",
            "Holder Name: Jane Smith\n",
            "Balance: $2000\n",
            "Account\n",
            "Account Number: 456789123\n",
            "Holder Name: Alice Johnson\n",
            "Balance: $2000\n"
          ]
        }
      ],
      "source": [
        "class Account:\n",
        "    def __init__(self, account_number, holder_name):\n",
        "        self.account_number = account_number\n",
        "        self.holder_name = holder_name\n",
        "        self.balance = 0\n",
        "\n",
        "    def deposit(self, amount):\n",
        "        if amount > 0:\n",
        "            self.balance += amount\n",
        "            print(f\"Deposited ${amount}. New balance is ${self.balance}.\")\n",
        "        else:\n",
        "            print(\"Invalid deposit amount.\")\n",
        "\n",
        "    def withdraw(self, amount):\n",
        "        if amount > 0:\n",
        "            if self.balance >= amount:\n",
        "                self.balance -= amount\n",
        "                print(f\"Withdrew ${amount}. New balance is ${self.balance}.\")\n",
        "            else:\n",
        "                print(\"Insufficient funds.\")\n",
        "        else:\n",
        "            print(\"Invalid withdrawal amount.\")\n",
        "\n",
        "    def __str__(self):\n",
        "        return f\"Account\\nAccount Number: {self.account_number}\\nHolder Name: {self.holder_name}\\nBalance: ${self.balance}\"\n",
        "\n",
        "accounts = [\n",
        "    Account(\"123456789\", \"John Doe\"),\n",
        "    Account(\"987654321\", \"Jane Smith\"),\n",
        "    Account(\"456789123\", \"Alice Johnson\")\n",
        "]\n",
        "\n",
        "accounts[0].deposit(1000)\n",
        "accounts[1].deposit(2000)\n",
        "accounts[2].deposit(3000)\n",
        "accounts[0].withdraw(500)\n",
        "accounts[2].withdraw(1000)\n",
        "\n",
        "for account in accounts:\n",
        "    print(account)"
      ]
    }
  ],
  "metadata": {
    "colab": {
      "provenance": [],
      "toc_visible": true
    },
    "kernelspec": {
      "display_name": "Python 3",
      "name": "python3"
    },
    "language_info": {
      "name": "python"
    }
  },
  "nbformat": 4,
  "nbformat_minor": 0
}