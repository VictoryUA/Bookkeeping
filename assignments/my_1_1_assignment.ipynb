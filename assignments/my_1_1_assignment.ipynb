{
  "cells": [
    {
      "cell_type": "markdown",
      "metadata": {
        "id": "oY7M_WqQy7zz"
      },
      "source": [
        "# Assignment 1.1\n",
        "\n",
        "> Replace all TODOs with your code. Do not change any other code."
      ]
    },
    {
      "cell_type": "markdown",
      "metadata": {
        "id": "Jz8SYjAz0N8D"
      },
      "source": [
        "## Basics"
      ]
    },
    {
      "cell_type": "markdown",
      "metadata": {
        "id": "IHwd1Zzby7z1"
      },
      "source": [
        "### Task 1\n",
        "\n",
        "a. Write a program that prints the number 10.\n",
        "\n",
        "b. Declare another variable `res2` with value 10. Print IDs of both.\n",
        "\n",
        "c. Declare two other variables with the value 10000. Print IDs of both."
      ]
    },
    {
      "cell_type": "code",
      "execution_count": null,
      "metadata": {
        "colab": {
          "base_uri": "https://localhost:8080/"
        },
        "id": "UfB0dnXHy7z2",
        "outputId": "0247a761-2e24-44c8-9b9a-ce7af99de0b8",
        "tags": [
          "task_1a"
        ]
      },
      "outputs": [
        {
          "name": "stdout",
          "output_type": "stream",
          "text": [
            "10\n"
          ]
        }
      ],
      "source": [
        "# TODO a\n",
        "\n",
        "res = 10\n",
        "\n",
        "print(res)"
      ]
    },
    {
      "cell_type": "code",
      "execution_count": null,
      "metadata": {
        "colab": {
          "base_uri": "https://localhost:8080/"
        },
        "id": "VtHGOji2zOfq",
        "outputId": "0e25d8dd-7231-42db-e8ec-42c3d9424e14",
        "tags": [
          "task_1b"
        ]
      },
      "outputs": [
        {
          "name": "stdout",
          "output_type": "stream",
          "text": [
            "138605217268240 138605217268240\n"
          ]
        }
      ],
      "source": [
        "res2=10\n",
        "\n",
        "print(id(res), id(res2))"
      ]
    },
    {
      "cell_type": "code",
      "execution_count": null,
      "metadata": {
        "colab": {
          "base_uri": "https://localhost:8080/"
        },
        "id": "c-ca4slRzO92",
        "outputId": "fcd341bd-ed35-461b-d82c-f403772c1658",
        "tags": [
          "task_1c"
        ]
      },
      "outputs": [
        {
          "name": "stdout",
          "output_type": "stream",
          "text": [
            "138604790413488 138604790414800\n"
          ]
        }
      ],
      "source": [
        "res_18=10000\n",
        "\n",
        "res18=10000\n",
        "\n",
        "print(id(res_18), id(res18))\n"
      ]
    },
    {
      "cell_type": "markdown",
      "metadata": {
        "id": "lL-ELM-Ay7z2"
      },
      "source": [
        "### Task 2\n",
        "\n",
        "Now, write a program that gets a name from a user and prints \"Hello, <name>\"."
      ]
    },
    {
      "cell_type": "code",
      "execution_count": null,
      "metadata": {
        "colab": {
          "base_uri": "https://localhost:8080/"
        },
        "id": "cibiSsjry7z3",
        "outputId": "a70035c7-9646-435c-e807-2057e967d05e",
        "tags": [
          "task_2"
        ]
      },
      "outputs": [
        {
          "name": "stdout",
          "output_type": "stream",
          "text": [
            "Oleh\n",
            "Hello, Oleh\n"
          ]
        }
      ],
      "source": [
        "name = input()\n",
        "\n",
        "print('Hello,', name)"
      ]
    },
    {
      "cell_type": "markdown",
      "metadata": {
        "id": "oGnwHD6h0SVW"
      },
      "source": [
        "## Variables"
      ]
    },
    {
      "cell_type": "markdown",
      "metadata": {
        "id": "saWNjvtKy7z3"
      },
      "source": [
        "### Task 3\n",
        "\n",
        "Write a program that gets two int variables and swaps their values. Do it in 3 different ways."
      ]
    },
    {
      "cell_type": "code",
      "execution_count": null,
      "metadata": {
        "colab": {
          "base_uri": "https://localhost:8080/"
        },
        "id": "V0T9Dybqy7z3",
        "outputId": "50c73d09-e142-42a3-a222-3c55801eb75e",
        "tags": []
      },
      "outputs": [
        {
          "name": "stdout",
          "output_type": "stream",
          "text": [
            "Option 1\n",
            "a = 5 b = 3\n"
          ]
        }
      ],
      "source": [
        "print('Option 1')\n",
        "a = 3\n",
        "b = 5\n",
        "\n",
        "temp=a\n",
        "a=b\n",
        "b=temp\n",
        "\n",
        "print('a =', a, 'b =', b)  # should print \"a = 5 b = 3\""
      ]
    },
    {
      "cell_type": "code",
      "execution_count": null,
      "metadata": {
        "colab": {
          "base_uri": "https://localhost:8080/"
        },
        "id": "cs5yNlMDy7z3",
        "outputId": "e6952348-1ee0-48d7-a5f1-2382a0c10e62",
        "tags": []
      },
      "outputs": [
        {
          "name": "stdout",
          "output_type": "stream",
          "text": [
            "Option 2\n",
            "a = 5 b = 3\n"
          ]
        }
      ],
      "source": [
        "print('Option 2')\n",
        "a = 3\n",
        "b = 5\n",
        "\n",
        "a,b=b,a\n",
        "\n",
        "print('a =', a, 'b =', b)  # should print \"a = 5 b = 3\""
      ]
    },
    {
      "cell_type": "code",
      "execution_count": null,
      "metadata": {
        "colab": {
          "base_uri": "https://localhost:8080/"
        },
        "id": "iCRsMwrsy7z3",
        "outputId": "6fa9bec5-fee7-4246-dc1d-cde3946e3487",
        "tags": []
      },
      "outputs": [
        {
          "name": "stdout",
          "output_type": "stream",
          "text": [
            "Option 3\n",
            "a = 5 b = 3\n"
          ]
        }
      ],
      "source": [
        "print('Option 3')\n",
        "a = 3\n",
        "b = 5\n",
        "\n",
        "a=a+b\n",
        "b=a-b\n",
        "a=a-b\n",
        "\n",
        "print('a =', a, 'b =', b)  # should print \"a = 5 b = 3\""
      ]
    },
    {
      "cell_type": "markdown",
      "metadata": {
        "id": "5DzFkKwx0VI5"
      },
      "source": [
        "## Numbers"
      ]
    },
    {
      "cell_type": "markdown",
      "metadata": {
        "id": "nP0LlORsy7z4"
      },
      "source": [
        "### Task 4\n",
        "\n",
        "Write a program that gets two numbers from the user. Print to the console the maximum of these two variables."
      ]
    },
    {
      "cell_type": "code",
      "execution_count": null,
      "metadata": {
        "id": "HfOKv3S9cWNO",
        "outputId": "cc88d638-2a30-4eb6-9e00-64eca7117ddd"
      },
      "outputs": [
        {
          "name": "stdout",
          "output_type": "stream",
          "text": [
            "res = 4\n"
          ]
        }
      ],
      "source": [
        "a = input()\n",
        "b = input()\n",
        "\n",
        "res=max(a,b)\n",
        "\n",
        "print('res =', res)"
      ]
    },
    {
      "cell_type": "markdown",
      "metadata": {
        "id": "hU1yDEnzy7z4"
      },
      "source": [
        "### Task 5\n",
        "\n",
        "You have two variables, `x1` and `x2`. Complete the program that calculates the following function:\n",
        "\n",
        "$$ f(x_1, x_2) = x_1 ^ {\\frac{x_2 - 1}{2}} $$"
      ]
    },
    {
      "cell_type": "code",
      "execution_count": null,
      "metadata": {
        "colab": {
          "base_uri": "https://localhost:8080/"
        },
        "id": "8sOSsdKiy7z4",
        "outputId": "9773dcc6-854c-4803-c6c2-73c111aa9b94",
        "tags": [
          "task_6"
        ]
      },
      "outputs": [
        {
          "name": "stdout",
          "output_type": "stream",
          "text": [
            "res = 100.0\n"
          ]
        }
      ],
      "source": [
        "x1 = 10\n",
        "x2 = 5\n",
        "\n",
        "res = x1**((x2-1)/2)\n",
        "\n",
        "print('res =', res)  # should be 100.0"
      ]
    },
    {
      "cell_type": "markdown",
      "metadata": {
        "id": "NbbRIcyqy7z4"
      },
      "source": [
        "### Task 6 (optional)\n",
        "\n",
        "You have a variable `x`, always a two-digit number (e.g., `10` or `57`). Complete the program that gets the last digit of this number (e.g., `10 -> 0`, `57 -> 7`)."
      ]
    },
    {
      "cell_type": "code",
      "execution_count": null,
      "metadata": {
        "colab": {
          "base_uri": "https://localhost:8080/"
        },
        "id": "2K8klEkzy7z4",
        "outputId": "3568fc19-6845-4b78-a27b-36027f3b932f",
        "tags": [
          "task_7"
        ]
      },
      "outputs": [
        {
          "name": "stdout",
          "output_type": "stream",
          "text": [
            "res = 7 and the first digit is 5\n"
          ]
        }
      ],
      "source": [
        "from string import digits\n",
        "x = 57\n",
        "\n",
        "number=x\n",
        "first_digit=number\n",
        "first_digit//=10\n",
        "\n",
        "\n",
        "last_digit=x%10\n",
        "res=x%10\n",
        "\n",
        "print('res =', res, 'and the first digit is', first_digit)  # should be 7"
      ]
    },
    {
      "cell_type": "markdown",
      "metadata": {
        "id": "wSQ4qMK79c8L"
      },
      "source": [
        "# New section"
      ]
    }
  ],
  "metadata": {
    "colab": {
      "provenance": [],
      "toc_visible": true
    },
    "kernelspec": {
      "display_name": "venv",
      "language": "python",
      "name": "python3"
    },
    "language_info": {
      "codemirror_mode": {
        "name": "ipython",
        "version": 3
      },
      "file_extension": ".py",
      "mimetype": "text/x-python",
      "name": "python",
      "nbconvert_exporter": "python",
      "pygments_lexer": "ipython3",
      "version": "3.10.10"
    },
    "orig_nbformat": 4
  },
  "nbformat": 4,
  "nbformat_minor": 0
}