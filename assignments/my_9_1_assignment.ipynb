{
  "cells": [
    {
      "cell_type": "markdown",
      "metadata": {
        "id": "oY7M_WqQy7zz"
      },
      "source": [
        "# Assignment 9.1\n",
        "\n",
        "> Replace all TODOs with your code. Do not change any other code."
      ]
    },
    {
      "cell_type": "code",
      "execution_count": null,
      "metadata": {
        "id": "bymolQyG6lVT"
      },
      "outputs": [],
      "source": [
        "# Do not edit this cell\n",
        "\n",
        "import numpy as np\n",
        "import pandas as pd"
      ]
    },
    {
      "cell_type": "markdown",
      "metadata": {
        "id": "Jz8SYjAz0N8D"
      },
      "source": [
        "## Numpy"
      ]
    },
    {
      "cell_type": "markdown",
      "metadata": {
        "id": "IHwd1Zzby7z1"
      },
      "source": [
        "### Task 1\n",
        "\n",
        "Create a 1D numpy array with elements [1, 2, 3, 4, 5]. Do it in two different ways.\n"
      ]
    },
    {
      "cell_type": "code",
      "execution_count": 6,
      "metadata": {
        "id": "UfB0dnXHy7z2",
        "tags": [
          "task_1a"
        ],
        "colab": {
          "base_uri": "https://localhost:8080/"
        },
        "outputId": "25b3f4a0-bb83-4bf7-c86d-1cfea62ad5d5"
      },
      "outputs": [
        {
          "output_type": "stream",
          "name": "stdout",
          "text": [
            "[1 2 3 4 5]\n"
          ]
        }
      ],
      "source": [
        "res1 = np.array([1, 2, 3, 4, 5])\n",
        "\n",
        "print(res1)"
      ]
    },
    {
      "cell_type": "code",
      "execution_count": 7,
      "metadata": {
        "id": "VtHGOji2zOfq",
        "tags": [
          "task_1b"
        ],
        "colab": {
          "base_uri": "https://localhost:8080/"
        },
        "outputId": "c57cc94c-ad05-4bba-e8b9-2b41f385713d"
      },
      "outputs": [
        {
          "output_type": "stream",
          "name": "stdout",
          "text": [
            "[1 2 3 4 5]\n"
          ]
        }
      ],
      "source": [
        "res2 = np.arange(1, 6)\n",
        "\n",
        "print(res2)"
      ]
    },
    {
      "cell_type": "markdown",
      "metadata": {
        "id": "lL-ELM-Ay7z2"
      },
      "source": [
        "### Task 2\n",
        "\n",
        "Create a 2D numpy array with shape (3, 5) filled with random integers between 1 and 100."
      ]
    },
    {
      "cell_type": "code",
      "execution_count": 8,
      "metadata": {
        "id": "cibiSsjry7z3",
        "tags": [
          "task_2"
        ],
        "colab": {
          "base_uri": "https://localhost:8080/"
        },
        "outputId": "4d64a980-a307-42e6-b18c-fe96f81f9402"
      },
      "outputs": [
        {
          "output_type": "stream",
          "name": "stdout",
          "text": [
            "[[19 61 88 51 45]\n",
            " [74  4 97 78 36]\n",
            " [39 19 66 32 66]]\n"
          ]
        }
      ],
      "source": [
        "res3 = np.random.randint(1, 101, size=(3, 5))\n",
        "\n",
        "print(res3)"
      ]
    },
    {
      "cell_type": "markdown",
      "metadata": {
        "id": "Iagg2Xez6lVk"
      },
      "source": [
        "### Task 3\n",
        "\n",
        "Print the first row of array `res3`."
      ]
    },
    {
      "cell_type": "code",
      "execution_count": 9,
      "metadata": {
        "tags": [
          "task_3"
        ],
        "id": "0Ug49s5l6lVm",
        "colab": {
          "base_uri": "https://localhost:8080/"
        },
        "outputId": "d171d77e-9495-4df3-d467-958dd21f33c1"
      },
      "outputs": [
        {
          "output_type": "stream",
          "name": "stdout",
          "text": [
            "[19 61 88 51 45]\n"
          ]
        }
      ],
      "source": [
        "print(res3[0])"
      ]
    },
    {
      "cell_type": "markdown",
      "metadata": {
        "id": "L-qS4zMn6lVn"
      },
      "source": [
        "### Task 4\n",
        "\n",
        "Access the last column of array `res3`. Assume that the array may be of any 2D shape."
      ]
    },
    {
      "cell_type": "code",
      "execution_count": 10,
      "metadata": {
        "tags": [
          "task_4"
        ],
        "id": "XLdVpV8P6lVo",
        "colab": {
          "base_uri": "https://localhost:8080/"
        },
        "outputId": "7b24ea2c-3d85-4d0d-a317-4d25684d8bab"
      },
      "outputs": [
        {
          "output_type": "stream",
          "name": "stdout",
          "text": [
            "[45 36 66]\n"
          ]
        }
      ],
      "source": [
        "last_column = res3[:, -1]\n",
        "print(last_column)"
      ]
    },
    {
      "cell_type": "markdown",
      "metadata": {
        "id": "saWNjvtKy7z3"
      },
      "source": [
        "### Task 5\n",
        "\n",
        "Find the min, max, and sum of elements of the second column of array `res3`."
      ]
    },
    {
      "cell_type": "code",
      "execution_count": 11,
      "metadata": {
        "id": "V0T9Dybqy7z3",
        "tags": [
          "task_5a"
        ],
        "colab": {
          "base_uri": "https://localhost:8080/"
        },
        "outputId": "832dfcb8-0f70-4136-fea0-c082bb8ac761"
      },
      "outputs": [
        {
          "output_type": "stream",
          "name": "stdout",
          "text": [
            "min = 4\n"
          ]
        }
      ],
      "source": [
        "# Min\n",
        "res_min = np.min(res3[:, 1])\n",
        "\n",
        "print('min =', res_min)"
      ]
    },
    {
      "cell_type": "code",
      "execution_count": 13,
      "metadata": {
        "id": "cs5yNlMDy7z3",
        "tags": [
          "task_5b"
        ],
        "colab": {
          "base_uri": "https://localhost:8080/"
        },
        "outputId": "fb623965-0590-4c54-92d5-56c0489f702b"
      },
      "outputs": [
        {
          "output_type": "stream",
          "name": "stdout",
          "text": [
            "max = 61\n"
          ]
        }
      ],
      "source": [
        "# Max\n",
        "res_max = np.max(res3[:, 1])\n",
        "\n",
        "print('max =', res_max)"
      ]
    },
    {
      "cell_type": "code",
      "execution_count": 14,
      "metadata": {
        "id": "iCRsMwrsy7z3",
        "tags": [
          "task_5c"
        ],
        "colab": {
          "base_uri": "https://localhost:8080/"
        },
        "outputId": "8a6f8193-7db2-4f5c-b57f-ee19310aa665"
      },
      "outputs": [
        {
          "output_type": "stream",
          "name": "stdout",
          "text": [
            "sum = 84\n"
          ]
        }
      ],
      "source": [
        "# Sum\n",
        "res_sum = np.sum(res3[:, 1])\n",
        "\n",
        "print('sum =', res_sum)"
      ]
    },
    {
      "cell_type": "markdown",
      "metadata": {
        "id": "r47KggVa6lVr"
      },
      "source": [
        "### Task 6\n",
        "\n",
        "Tabulate the function\n",
        "\n",
        "$$f(x) = e^{2x}$$\n",
        "\n",
        "on interval `[0, 1]` with step 0.1.\n",
        "\n",
        "By \"tabulate\" we mean that we want to have a table (1D array), where on the first position we will have the function value for 0, on the second position 0.1, and so on."
      ]
    },
    {
      "cell_type": "code",
      "execution_count": 16,
      "metadata": {
        "tags": [
          "task_6"
        ],
        "id": "hYvk0d3i6lVs",
        "colab": {
          "base_uri": "https://localhost:8080/"
        },
        "outputId": "9879362c-5cdf-43d6-e9ce-2392120f7d5e"
      },
      "outputs": [
        {
          "output_type": "stream",
          "name": "stdout",
          "text": [
            "[1.         1.22140276 1.4918247  1.8221188  2.22554093 2.71828183\n",
            " 3.32011692 4.05519997 4.95303242 6.04964746 7.3890561 ]\n"
          ]
        }
      ],
      "source": [
        "x = np.arange(0, 1 + 0.1, 0.1)\n",
        "f_x = np.exp(2 * x)\n",
        "\n",
        "print(f_x)"
      ]
    },
    {
      "cell_type": "markdown",
      "metadata": {
        "id": "5DzFkKwx0VI5"
      },
      "source": [
        "## Pandas\n",
        "\n",
        "We will be working on the classic dataset for beginner data scientists: Titanic passengers."
      ]
    },
    {
      "cell_type": "markdown",
      "metadata": {
        "id": "nP0LlORsy7z4"
      },
      "source": [
        "### Task 7\n",
        "\n",
        "Load the dataset from the following URL: https://web.stanford.edu/class/cs102/datasets/Titanic.csv"
      ]
    },
    {
      "cell_type": "code",
      "execution_count": 18,
      "metadata": {
        "id": "RiIm_kUSy7z4",
        "tags": [
          "task_7"
        ],
        "colab": {
          "base_uri": "https://localhost:8080/"
        },
        "outputId": "1ad879ad-b9c3-4a88-85e4-6ea076246561"
      },
      "outputs": [
        {
          "output_type": "stream",
          "name": "stdout",
          "text": [
            "        last                                       first gender   age  class  \\\n",
            "0     Braund                             Mr. Owen Harris      M  22.0      3   \n",
            "1    Cumings  Mrs. John Bradley (Florence Briggs Thayer)      F  38.0      1   \n",
            "2  Heikkinen                                  Miss Laina      F  26.0      3   \n",
            "3   Futrelle          Mrs. Jacques Heath (Lily May Peel)      F  35.0      1   \n",
            "4      Allen                           Mr. William Henry      M  35.0      3   \n",
            "\n",
            "      fare     embarked survived  \n",
            "0   7.2500  Southampton       no  \n",
            "1  71.2833    Cherbourg      yes  \n",
            "2   7.9250  Southampton      yes  \n",
            "3  53.1000  Southampton      yes  \n",
            "4   8.0500  Southampton       no  \n"
          ]
        }
      ],
      "source": [
        "url = \"https://web.stanford.edu/class/cs102/datasets/Titanic.csv\"\n",
        "df = pd.read_csv(url)\n",
        "print(df.head())"
      ]
    },
    {
      "cell_type": "markdown",
      "metadata": {
        "id": "hU1yDEnzy7z4"
      },
      "source": [
        "### Task 8\n",
        "\n",
        "Let's see the series/columns present in the data frame.\n",
        "\n",
        "Also, let's inspect the first ten rows of data."
      ]
    },
    {
      "cell_type": "code",
      "execution_count": 19,
      "metadata": {
        "id": "8sOSsdKiy7z4",
        "tags": [
          "task_8a"
        ],
        "colab": {
          "base_uri": "https://localhost:8080/"
        },
        "outputId": "9a2817c4-3661-4adb-8f35-0d5b72637523"
      },
      "outputs": [
        {
          "output_type": "stream",
          "name": "stdout",
          "text": [
            "Columns present in the data frame:\n",
            "Index(['last', 'first', 'gender', 'age', 'class', 'fare', 'embarked',\n",
            "       'survived'],\n",
            "      dtype='object')\n"
          ]
        }
      ],
      "source": [
        "print(\"Columns present in the data frame:\")\n",
        "print(df.columns)"
      ]
    },
    {
      "cell_type": "code",
      "execution_count": 20,
      "metadata": {
        "tags": [
          "task_8b"
        ],
        "id": "L1d6Yscd6lVu",
        "colab": {
          "base_uri": "https://localhost:8080/"
        },
        "outputId": "fde643a5-f8ba-4bf0-a931-610deed037a0"
      },
      "outputs": [
        {
          "output_type": "stream",
          "name": "stdout",
          "text": [
            "\n",
            "First ten rows of data:\n",
            "        last                                       first gender   age  class  \\\n",
            "0     Braund                             Mr. Owen Harris      M  22.0      3   \n",
            "1    Cumings  Mrs. John Bradley (Florence Briggs Thayer)      F  38.0      1   \n",
            "2  Heikkinen                                  Miss Laina      F  26.0      3   \n",
            "3   Futrelle          Mrs. Jacques Heath (Lily May Peel)      F  35.0      1   \n",
            "4      Allen                           Mr. William Henry      M  35.0      3   \n",
            "5      Moran                                   Mr. James      M   NaN      3   \n",
            "6   McCarthy                               Mr. Timothy J      M  54.0      1   \n",
            "7    Palsson                        Master Gosta Leonard      M   2.0      3   \n",
            "8    Johnson    Mrs. Oscar W (Elisabeth Vilhelmina Berg)      F  27.0      3   \n",
            "9     Nasser                 Mrs. Nicholas (Adele Achem)      F  14.0      2   \n",
            "\n",
            "      fare     embarked survived  \n",
            "0   7.2500  Southampton       no  \n",
            "1  71.2833    Cherbourg      yes  \n",
            "2   7.9250  Southampton      yes  \n",
            "3  53.1000  Southampton      yes  \n",
            "4   8.0500  Southampton       no  \n",
            "5   8.4583   Queenstown       no  \n",
            "6  51.8625  Southampton       no  \n",
            "7  21.0750  Southampton       no  \n",
            "8  11.1333  Southampton      yes  \n",
            "9  30.0708    Cherbourg      yes  \n"
          ]
        }
      ],
      "source": [
        "print(\"\\nFirst ten rows of data:\")\n",
        "print(df.head(10))"
      ]
    },
    {
      "cell_type": "markdown",
      "metadata": {
        "id": "NbbRIcyqy7z4"
      },
      "source": [
        "### Task 9\n",
        "\n",
        "Add a new column - full name - it should be a concat of the first and last name."
      ]
    },
    {
      "cell_type": "code",
      "execution_count": 26,
      "metadata": {
        "tags": [
          "task_9"
        ],
        "id": "DJcQPHU36lVv",
        "colab": {
          "base_uri": "https://localhost:8080/"
        },
        "outputId": "d2840e7b-a014-4c18-8be5-dabbf869257a"
      },
      "outputs": [
        {
          "output_type": "stream",
          "name": "stdout",
          "text": [
            "        last                                       first gender   age  class  \\\n",
            "0     Braund                             Mr. Owen Harris      M  22.0      3   \n",
            "1    Cumings  Mrs. John Bradley (Florence Briggs Thayer)      F  38.0      1   \n",
            "2  Heikkinen                                  Miss Laina      F  26.0      3   \n",
            "3   Futrelle          Mrs. Jacques Heath (Lily May Peel)      F  35.0      1   \n",
            "4      Allen                           Mr. William Henry      M  35.0      3   \n",
            "\n",
            "      fare     embarked survived  \\\n",
            "0   7.2500  Southampton       no   \n",
            "1  71.2833    Cherbourg      yes   \n",
            "2   7.9250  Southampton      yes   \n",
            "3  53.1000  Southampton      yes   \n",
            "4   8.0500  Southampton       no   \n",
            "\n",
            "                                           full name  \n",
            "0                             Mr. Owen Harris Braund  \n",
            "1  Mrs. John Bradley (Florence Briggs Thayer) Cum...  \n",
            "2                               Miss Laina Heikkinen  \n",
            "3        Mrs. Jacques Heath (Lily May Peel) Futrelle  \n",
            "4                            Mr. William Henry Allen  \n"
          ]
        }
      ],
      "source": [
        "df['full name'] = df['first'] + ' ' + df['last']\n",
        "\n",
        "print(df.head())"
      ]
    },
    {
      "cell_type": "markdown",
      "metadata": {
        "id": "UvRSBhXi6lVw"
      },
      "source": [
        "### Task 10\n",
        "\n",
        "Remove the two original columns - last, first."
      ]
    },
    {
      "cell_type": "code",
      "execution_count": 27,
      "metadata": {
        "id": "2K8klEkzy7z4",
        "tags": [
          "task_10"
        ],
        "colab": {
          "base_uri": "https://localhost:8080/"
        },
        "outputId": "fa4727b8-d386-4174-ffd4-578523e009c5"
      },
      "outputs": [
        {
          "output_type": "stream",
          "name": "stdout",
          "text": [
            "  gender   age  class     fare     embarked survived  \\\n",
            "0      M  22.0      3   7.2500  Southampton       no   \n",
            "1      F  38.0      1  71.2833    Cherbourg      yes   \n",
            "2      F  26.0      3   7.9250  Southampton      yes   \n",
            "3      F  35.0      1  53.1000  Southampton      yes   \n",
            "4      M  35.0      3   8.0500  Southampton       no   \n",
            "\n",
            "                                           full name  \n",
            "0                             Mr. Owen Harris Braund  \n",
            "1  Mrs. John Bradley (Florence Briggs Thayer) Cum...  \n",
            "2                               Miss Laina Heikkinen  \n",
            "3        Mrs. Jacques Heath (Lily May Peel) Futrelle  \n",
            "4                            Mr. William Henry Allen  \n"
          ]
        }
      ],
      "source": [
        "df = df.drop(columns=['last', 'first'])\n",
        "print(df.head())"
      ]
    },
    {
      "cell_type": "markdown",
      "metadata": {
        "id": "A431RdWp6lVw"
      },
      "source": [
        "### Task 11\n",
        "\n",
        "Calculate the total number of survivors in the dataset."
      ]
    },
    {
      "cell_type": "code",
      "execution_count": 33,
      "metadata": {
        "tags": [
          "task_11"
        ],
        "id": "meTLWpz46lVx",
        "colab": {
          "base_uri": "https://localhost:8080/"
        },
        "outputId": "e6c75a92-b515-4ffb-bba9-42826a5600c0"
      },
      "outputs": [
        {
          "output_type": "stream",
          "name": "stdout",
          "text": [
            "Total number of survivors: 342\n"
          ]
        }
      ],
      "source": [
        "total_survivors = len(df[df['survived'] == 'yes'])\n",
        "print(\"Total number of survivors:\", total_survivors)"
      ]
    }
  ],
  "metadata": {
    "colab": {
      "provenance": [],
      "toc_visible": true
    },
    "kernelspec": {
      "display_name": "venv",
      "language": "python",
      "name": "python3"
    },
    "language_info": {
      "codemirror_mode": {
        "name": "ipython",
        "version": 3
      },
      "file_extension": ".py",
      "mimetype": "text/x-python",
      "name": "python",
      "nbconvert_exporter": "python",
      "pygments_lexer": "ipython3",
      "version": "3.9.6"
    },
    "orig_nbformat": 4
  },
  "nbformat": 4,
  "nbformat_minor": 0
}