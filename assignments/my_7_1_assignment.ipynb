{
  "cells": [
    {
      "cell_type": "markdown",
      "metadata": {
        "id": "K-xXkt9Ztf7J"
      },
      "source": [
        "# Assignment 7.1\n",
        "\n",
        "> Replace all TODOs with your code.\n",
        ">\n",
        "> Do not change any other code and do not add/remove cells!"
      ]
    },
    {
      "cell_type": "code",
      "execution_count": null,
      "metadata": {
        "id": "sGdc6BbbALg9"
      },
      "outputs": [],
      "source": [
        "# Do not edit this cell\n",
        "\n",
        "from typing import List, Dict"
      ]
    },
    {
      "cell_type": "markdown",
      "metadata": {
        "id": "cfhcjaX0vXXa"
      },
      "source": [
        "## Clients"
      ]
    },
    {
      "cell_type": "markdown",
      "metadata": {
        "id": "Vlz14hyr6wV6"
      },
      "source": [
        "### Task 1\n",
        "\n",
        "Write a function that takes a GitHub repository name as input and uses the [GitHub Repository API](https://docs.github.com/en/rest/repos) to retrieve and return information about the specified repository, including:\n",
        "\n",
        "* Repository Name\n",
        "* Owner\n",
        "* Description\n",
        "* License (if available)\n",
        "* Creation Date\n",
        "\n",
        "Use the `requests` module for this task."
      ]
    },
    {
      "cell_type": "code",
      "execution_count": 6,
      "metadata": {
        "id": "vDYn-dRb7xIX",
        "colab": {
          "base_uri": "https://localhost:8080/"
        },
        "outputId": "c203658b-230f-47b0-8385-981a9f65c8bd"
      },
      "outputs": [
        {
          "output_type": "execute_result",
          "data": {
            "text/plain": [
              "{'Repository Name': 'octocat/Hello-World',\n",
              " 'Owner': 'octocat',\n",
              " 'Description': 'My first repository on GitHub!',\n",
              " 'License': 'Not specified',\n",
              " 'Creation Date': '2011-01-26T19:01:12Z'}"
            ]
          },
          "metadata": {},
          "execution_count": 6
        }
      ],
      "source": [
        "import requests\n",
        "from typing import Dict\n",
        "\n",
        "def get_repository_info(repo_name: str) -> Dict[str, str]:\n",
        "    url = f\"https://api.github.com/repos/{repo_name}\"\n",
        "    resp = requests.get(url)\n",
        "\n",
        "    if resp.status_code == 200:\n",
        "        repo_info = resp.json()\n",
        "        owner = repo_info['owner']['login']\n",
        "        description = repo_info['description']\n",
        "\n",
        "        if 'license' in repo_info and repo_info['license'] is not None:\n",
        "            license_info = repo_info['license'].get('name', 'Not specified')\n",
        "        else:\n",
        "            license_info = 'Not specified'\n",
        "\n",
        "        creation_date = repo_info['created_at']\n",
        "\n",
        "        return {\n",
        "            'Repository Name': repo_name,\n",
        "            'Owner': owner,\n",
        "            'Description': description,\n",
        "            'License': license_info,\n",
        "            'Creation Date': creation_date\n",
        "        }\n",
        "    else:\n",
        "        print(f\"Failed to retrieve repository information: {resp.status_code}\")\n",
        "        return None\n",
        "\n",
        "get_repository_info(\"octocat/Hello-World\")"
      ]
    },
    {
      "cell_type": "code",
      "execution_count": 11,
      "metadata": {
        "id": "Kf2284dT-atu",
        "colab": {
          "base_uri": "https://localhost:8080/"
        },
        "outputId": "c498bfa3-2a07-4b79-e129-0a0fe81b7d93"
      },
      "outputs": [
        {
          "output_type": "execute_result",
          "data": {
            "text/plain": [
              "[{'Commit Message': 'Merge pull request #6 from Spaceghost/patch-1\\n\\nNew line at end of file.',\n",
              "  'Author': 'The Octocat',\n",
              "  'Date': '2012-03-06T23:06:50Z',\n",
              "  'Commit Link': 'https://github.com/octocat/Hello-World/commit/7fd1a60b01f91b314f59955a4e4d4e80d8edf11d'},\n",
              " {'Commit Message': 'New line at end of file. --Signed off by Spaceghost',\n",
              "  'Author': 'Johnneylee Jack Rollins',\n",
              "  'Date': '2011-09-14T04:42:41Z',\n",
              "  'Commit Link': 'https://github.com/octocat/Hello-World/commit/762941318ee16e59dabbacb1b4049eec22f0d303'},\n",
              " {'Commit Message': 'first commit',\n",
              "  'Author': 'cameronmcefee',\n",
              "  'Date': '2011-01-26T19:06:08Z',\n",
              "  'Commit Link': 'https://github.com/octocat/Hello-World/commit/553c2077f0edc3d5dc5d17262f6aa498e69d6f8e'}]"
            ]
          },
          "metadata": {},
          "execution_count": 11
        }
      ],
      "source": [
        "import requests\n",
        "from typing import Dict, List\n",
        "\n",
        "def get_recent_commits(repo_name: str) -> List[Dict[str, str]]:\n",
        "    pass\n",
        "    url = f\"https://api.github.com/repos/{repo_name}/commits\"\n",
        "    params = {'per_page': 5}\n",
        "\n",
        "    response = requests.get(url, params=params)\n",
        "\n",
        "    if response.status_code == 200:\n",
        "        commits_info = []\n",
        "        for commit in response.json():\n",
        "            commit_message = commit['commit']['message']\n",
        "            author = commit['commit']['author']['name']\n",
        "            date = commit['commit']['author']['date']\n",
        "            commit_link = commit['html_url']\n",
        "            commits_info.append({\n",
        "                'Commit Message': commit_message,\n",
        "                'Author': author,\n",
        "                'Date': date,\n",
        "                'Commit Link': commit_link\n",
        "            })\n",
        "\n",
        "        return commits_info\n",
        "    else:\n",
        "        print(f\"Failed to retrieve commits information: {response.status_code}\")\n",
        "        return []\n",
        "\n",
        "get_recent_commits(\"octocat/Hello-World\")"
      ]
    }
  ],
  "metadata": {
    "colab": {
      "provenance": []
    },
    "kernelspec": {
      "display_name": "Python 3",
      "name": "python3"
    },
    "language_info": {
      "name": "python"
    }
  },
  "nbformat": 4,
  "nbformat_minor": 0
}